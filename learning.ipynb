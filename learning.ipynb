{
 "cells": [
  {
   "cell_type": "markdown",
   "metadata": {},
   "source": [
    "# Basics and data types\n",
    "\n",
    "Here is the basic structure for a C++ application.\n",
    "If you're developing locally, you'll start with just a main function, but this step is unnecesary in a notebook environment."
   ]
  },
  {
   "cell_type": "code",
   "execution_count": 33,
   "metadata": {},
   "outputs": [],
   "source": [
    "#include <iostream>\n",
    "#include <string>\n",
    "\n",
    "int main(){\n",
    "    double x = static_cast<int>(5.5);\n",
    "    std::string y = \"Hello world\";\n",
    "    \n",
    "    std::cout << x << std::endl;\n",
    "    std::cout << y << std::endl;\n",
    "}"
   ]
  },
  {
   "cell_type": "code",
   "execution_count": 34,
   "metadata": {},
   "outputs": [],
   "source": [
    "main();"
   ]
  },
  {
   "cell_type": "markdown",
   "metadata": {},
   "source": [
    "# Here's how to print a variable"
   ]
  },
  {
   "cell_type": "code",
   "execution_count": 36,
   "metadata": {},
   "outputs": [],
   "source": [
    "int v = 5000;\n",
    "std::cout << v << std::endl;"
   ]
  },
  {
   "cell_type": "markdown",
   "metadata": {},
   "source": [
    "You can use variables defined in earlier cells:"
   ]
  },
  {
   "cell_type": "code",
   "execution_count": 37,
   "metadata": {},
   "outputs": [],
   "source": [
    "std::cout << v << std::endl;"
   ]
  },
  {
   "cell_type": "markdown",
   "metadata": {},
   "source": [
    "# Working with strings\n",
    "\n",
    "A summary of this section is basically that C strings succccc. \n",
    "Don't use them unless you need to. \n",
    "A char array cannot be expanded or assigned to from another array. "
   ]
  },
  {
   "cell_type": "markdown",
   "metadata": {},
   "source": [
    "Example of how to use scanf from C programming\n",
    "http://www.cplusplus.com/reference/cstdio/scanf/"
   ]
  },
  {
   "cell_type": "code",
   "execution_count": 18,
   "metadata": {},
   "outputs": [
    {
     "name": "stdout",
     "output_type": "stream",
     "text": [
      "hello "
     ]
    }
   ],
   "source": [
    "//The C way of doing it. Don't quite work in notebook. Thats ok tho.\n",
    "#include <stdio.h>\n",
    "\n",
    "char name[30];\n",
    "scanf(\"%29s\", name);\n",
    "printf(\"hello %s\", name);"
   ]
  },
  {
   "cell_type": "code",
   "execution_count": 15,
   "metadata": {},
   "outputs": [
    {
     "name": "stdin",
     "output_type": "stream",
     "text": [
      " Caleb Cuurry\n"
     ]
    }
   ],
   "source": [
    "//C++ \n",
    "\n",
    "std::string name; //Don't worry about the size\n",
    "std::cin >> name;"
   ]
  },
  {
   "cell_type": "code",
   "execution_count": 42,
   "metadata": {},
   "outputs": [
    {
     "name": "stdout",
     "output_type": "stream",
     "text": [
      "5\n",
      "Caleb Curry\n",
      "Subscriber is 10 characters long.\n",
      "You: Subscriber. copy2: Subscriber\n",
      "0x103a9d12e 0x103a9d178\n"
     ]
    }
   ],
   "source": [
    "#include <string>\n",
    "#include <iostream>\n",
    "#include <cstring>\n",
    "\n",
    "std::string name = \"Caleb\";\n",
    "std::cout << name.size() << std::endl;\n",
    "\n",
    "name += \" Curry\";\n",
    "\n",
    "std::cout << name << std::endl;\n",
    "\n",
    "//C String\n",
    "char you[] = \"Subscriber\";\n",
    "std::cout << you << \" is \" << strlen(you) << \" characters long.\" << std::endl;\n",
    "\n",
    "//you += \" forever\"; //NOPE!\n",
    "\n",
    "std::string copy1 = name; //Easy with c++ strings. \n",
    "\n",
    "//char copy2[11] = you; //This doesn't work. \n",
    "\n",
    "char copy2[11];\n",
    "strcpy(copy2, you); //Easy to get backwards\n",
    "\n",
    "std::cout << \"You: \" << you << \". copy2: \" << copy2 << std::endl;\n",
    "std::cout << &you << \" \" << &copy2 << std::endl;"
   ]
  }
 ],
 "metadata": {
  "kernelspec": {
   "display_name": "C++17",
   "language": "C++17",
   "name": "xcpp17"
  },
  "language_info": {
   "codemirror_mode": "text/x-c++src",
   "file_extension": ".cpp",
   "mimetype": "text/x-c++src",
   "name": "c++",
   "version": "17"
  }
 },
 "nbformat": 4,
 "nbformat_minor": 4
}
