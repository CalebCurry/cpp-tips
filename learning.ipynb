{
 "cells": [
  {
   "cell_type": "markdown",
   "metadata": {},
   "source": [
    "# Basics and data types\n",
    "\n",
    "Here is the basic structure for a C++ application.\n",
    "If you're developing locally, you'll start with just a main function, but this step is unnecesary in a notebook environment."
   ]
  },
  {
   "cell_type": "code",
   "execution_count": 1,
   "metadata": {},
   "outputs": [],
   "source": [
    "#include <iostream>\n",
    "#include <string>\n",
    "\n",
    "int main(){\n",
    "    double x = static_cast<int>(5.5);\n",
    "    std::string y = \"Hello world\";\n",
    "    \n",
    "    std::cout << x << std::endl;\n",
    "    std::cout << y << std::endl;\n",
    "}"
   ]
  },
  {
   "cell_type": "code",
   "execution_count": 2,
   "metadata": {},
   "outputs": [
    {
     "name": "stdout",
     "output_type": "stream",
     "text": [
      "5\n",
      "Hello world\n"
     ]
    }
   ],
   "source": [
    "main();"
   ]
  },
  {
   "cell_type": "markdown",
   "metadata": {},
   "source": [
    "# Here's how to print a variable"
   ]
  },
  {
   "cell_type": "code",
   "execution_count": 3,
   "metadata": {},
   "outputs": [
    {
     "name": "stdout",
     "output_type": "stream",
     "text": [
      "5000\n"
     ]
    }
   ],
   "source": [
    "int v = 5000;\n",
    "std::cout << v << std::endl;"
   ]
  },
  {
   "cell_type": "markdown",
   "metadata": {},
   "source": [
    "You can use variables defined in earlier cells:"
   ]
  },
  {
   "cell_type": "code",
   "execution_count": 4,
   "metadata": {},
   "outputs": [
    {
     "name": "stdout",
     "output_type": "stream",
     "text": [
      "5000\n"
     ]
    }
   ],
   "source": [
    "std::cout << v << std::endl;"
   ]
  },
  {
   "cell_type": "markdown",
   "metadata": {},
   "source": [
    "# Working with strings\n",
    "\n",
    "A summary of this section is basically that C strings succccc. \n",
    "Don't use them unless you need to. \n",
    "A char array cannot be expanded or assigned to from another array. "
   ]
  },
  {
   "cell_type": "markdown",
   "metadata": {},
   "source": [
    "Example of how to use scanf from C programming\n",
    "http://www.cplusplus.com/reference/cstdio/scanf/"
   ]
  },
  {
   "cell_type": "code",
   "execution_count": 5,
   "metadata": {},
   "outputs": [
    {
     "name": "stdout",
     "output_type": "stream",
     "text": [
      "hello "
     ]
    }
   ],
   "source": [
    "//The C way of doing it. Don't quite work in notebook. Thats ok tho.\n",
    "#include <stdio.h>\n",
    "\n",
    "char name[30];\n",
    "scanf(\"%29s\", name);\n",
    "printf(\"hello %s\", name);"
   ]
  },
  {
   "cell_type": "code",
   "execution_count": 6,
   "metadata": {},
   "outputs": [],
   "source": [
    "//C++ \n",
    "\n",
    "std::string name; //Don't worry about the size\n",
    "//std::cin >> name;"
   ]
  },
  {
   "cell_type": "code",
   "execution_count": 7,
   "metadata": {},
   "outputs": [
    {
     "name": "stdout",
     "output_type": "stream",
     "text": [
      "5\n",
      "Caleb Curry\n",
      "Subscriber is 10 characters long.\n",
      "You: Subscriber. copy2: Subscriber\n",
      "0x10ac1b12e 0x10ac1b178\n"
     ]
    }
   ],
   "source": [
    "#include <string>\n",
    "#include <iostream>\n",
    "#include <cstring>\n",
    "\n",
    "std::string name = \"Caleb\";\n",
    "std::cout << name.size() << std::endl;\n",
    "\n",
    "name += \" Curry\";\n",
    "\n",
    "std::cout << name << std::endl;\n",
    "\n",
    "//C String\n",
    "char you[] = \"Subscriber\";\n",
    "std::cout << you << \" is \" << strlen(you) << \" characters long.\" << std::endl;\n",
    "\n",
    "//you += \" forever\"; //NOPE!\n",
    "\n",
    "std::string copy1 = name; //Easy\n",
    "//char copy2[11] = you; //This doesn't work. \n",
    "\n",
    "char copy2[11];\n",
    "strcpy(copy2, you); //Easy to get backwards\n",
    "\n",
    "std::cout << \"You: \" << you << \". copy2: \" << copy2 << std::endl;\n",
    "std::cout << &you << \" \" << &copy2 << std::endl;"
   ]
  },
  {
   "cell_type": "markdown",
   "metadata": {},
   "source": [
    "# Working with Vectors\n",
    "C++ dynamic array. The equivalent of an arraylist in c#/Java or a list in Python. Ideal choice for most situations. "
   ]
  },
  {
   "cell_type": "code",
   "execution_count": 8,
   "metadata": {},
   "outputs": [
    {
     "name": "stdout",
     "output_type": "stream",
     "text": [
      "green red blue black \n"
     ]
    }
   ],
   "source": [
    "#include <vector>\n",
    "\n",
    "std::vector<std::string> favorite_colors;\n",
    "favorite_colors.push_back(\"green\");\n",
    "favorite_colors.push_back(\"red\");\n",
    "favorite_colors.push_back(\"blue\");\n",
    "favorite_colors.push_back(\"black\");\n",
    "\n",
    "for (auto color : favorite_colors){\n",
    "    std::cout << color << \" \";\n",
    "}\n",
    "std::cout << std::endl;"
   ]
  },
  {
   "cell_type": "markdown",
   "metadata": {},
   "source": [
    "# You can also use an initializer with hardcoded values. C++ 11\n",
    "if using g++.  \n",
    "g++ --std=c++11 filename.cpp\n",
    "with compiling.    \n",
    "I think.  "
   ]
  },
  {
   "cell_type": "code",
   "execution_count": 9,
   "metadata": {},
   "outputs": [
    {
     "name": "stdout",
     "output_type": "stream",
     "text": [
      "green red blue black "
     ]
    }
   ],
   "source": [
    "std::vector<std::string> favorite_colors = {\"green\", \"red\", \"blue\", \"black\"};\n",
    "\n",
    "for (auto color : favorite_colors){\n",
    "    std::cout << color << \" \";\n",
    "}"
   ]
  },
  {
   "cell_type": "markdown",
   "metadata": {},
   "source": [
    "# How to sort an array / vector (insertion sort)\n",
    "https://en.wikipedia.org/wiki/Insertion_sort.  \n",
    "\n",
    "O(n^2) because we have a nested loop and both are dependant on list size.  \n",
    "\n",
    "in-place algorithm. Space complexity is O(1).  \n",
    "\n",
    "We'll be using a vector because it's simpler and what I am most comfortable working with, but I'm sure you could adapt this example to an array fairly easily. "
   ]
  },
  {
   "cell_type": "code",
   "execution_count": 10,
   "metadata": {},
   "outputs": [
    {
     "name": "stdout",
     "output_type": "stream",
     "text": [
      "1 20 3 423 50 3 43 23 5 5 5 534 5 43 34 23 543 234 0 767 4 -65 -76 94 \n"
     ]
    }
   ],
   "source": [
    "std::vector<int> data = {1, 20, 3, 423, 50, 3, 43, 23, 5, 5, 5, 534, 5, 43, 34, 23, 543, 234, 0, 767, 4, -65, -76, 94};\n",
    "\n",
    "for (int d : data){\n",
    "    std::cout << d << \" \";\n",
    "}\n",
    "std::cout << std::endl;"
   ]
  },
  {
   "cell_type": "code",
   "execution_count": 11,
   "metadata": {},
   "outputs": [
    {
     "name": "stdout",
     "output_type": "stream",
     "text": [
      "20 10\n"
     ]
    }
   ],
   "source": [
    "void swap(int &a, int &b){\n",
    "    int temp = a;\n",
    "    a = b;\n",
    "    b = temp;\n",
    "}\n",
    "\n",
    "int x = 10;\n",
    "int y = 20;\n",
    "\n",
    "swap(x, y);\n",
    "\n",
    "std::cout << x << \" \" << y << std::endl;"
   ]
  },
  {
   "cell_type": "code",
   "execution_count": 12,
   "metadata": {},
   "outputs": [],
   "source": [
    "void print_data(std::vector<int> data){\n",
    "    for (int d : data){\n",
    "        std::cout << d << \" \";\n",
    "    }\n",
    "    std::cout << std::endl;\n",
    "}"
   ]
  },
  {
   "cell_type": "code",
   "execution_count": 13,
   "metadata": {},
   "outputs": [
    {
     "name": "stdout",
     "output_type": "stream",
     "text": [
      "101 20 3 423 50 3 43 23 5 5 5 534 5 43 34 23 543 234 0 767 4 -65 -76 94 \n",
      "20 101 3 423 50 3 43 23 5 5 5 534 5 43 34 23 543 234 0 767 4 -65 -76 94 \n",
      "3 20 101 423 50 3 43 23 5 5 5 534 5 43 34 23 543 234 0 767 4 -65 -76 94 \n",
      "3 20 101 423 50 3 43 23 5 5 5 534 5 43 34 23 543 234 0 767 4 -65 -76 94 \n",
      "3 20 50 101 423 3 43 23 5 5 5 534 5 43 34 23 543 234 0 767 4 -65 -76 94 \n",
      "3 3 20 50 101 423 43 23 5 5 5 534 5 43 34 23 543 234 0 767 4 -65 -76 94 \n",
      "3 3 20 43 50 101 423 23 5 5 5 534 5 43 34 23 543 234 0 767 4 -65 -76 94 \n",
      "3 3 20 23 43 50 101 423 5 5 5 534 5 43 34 23 543 234 0 767 4 -65 -76 94 \n",
      "3 3 5 20 23 43 50 101 423 5 5 534 5 43 34 23 543 234 0 767 4 -65 -76 94 \n",
      "3 3 5 5 20 23 43 50 101 423 5 534 5 43 34 23 543 234 0 767 4 -65 -76 94 \n",
      "3 3 5 5 5 20 23 43 50 101 423 534 5 43 34 23 543 234 0 767 4 -65 -76 94 \n",
      "3 3 5 5 5 20 23 43 50 101 423 534 5 43 34 23 543 234 0 767 4 -65 -76 94 \n",
      "3 3 5 5 5 5 20 23 43 50 101 423 534 43 34 23 543 234 0 767 4 -65 -76 94 \n",
      "3 3 5 5 5 5 20 23 43 43 50 101 423 534 34 23 543 234 0 767 4 -65 -76 94 \n",
      "3 3 5 5 5 5 20 23 34 43 43 50 101 423 534 23 543 234 0 767 4 -65 -76 94 \n",
      "3 3 5 5 5 5 20 23 23 34 43 43 50 101 423 534 543 234 0 767 4 -65 -76 94 \n",
      "3 3 5 5 5 5 20 23 23 34 43 43 50 101 423 534 543 234 0 767 4 -65 -76 94 \n",
      "3 3 5 5 5 5 20 23 23 34 43 43 50 101 234 423 534 543 0 767 4 -65 -76 94 \n",
      "0 3 3 5 5 5 5 20 23 23 34 43 43 50 101 234 423 534 543 767 4 -65 -76 94 \n",
      "0 3 3 5 5 5 5 20 23 23 34 43 43 50 101 234 423 534 543 767 4 -65 -76 94 \n",
      "0 3 3 4 5 5 5 5 20 23 23 34 43 43 50 101 234 423 534 543 767 -65 -76 94 \n",
      "-65 0 3 3 4 5 5 5 5 20 23 23 34 43 43 50 101 234 423 534 543 767 -76 94 \n",
      "-76 -65 0 3 3 4 5 5 5 5 20 23 23 34 43 43 50 101 234 423 534 543 767 94 \n",
      "-76 -65 0 3 3 4 5 5 5 5 20 23 23 34 43 43 50 94 101 234 423 534 543 767 \n",
      "-76 -65 0 3 3 4 5 5 5 5 20 23 23 34 43 43 50 94 101 234 423 534 543 767 \n"
     ]
    }
   ],
   "source": [
    "std::vector<int> data = {101, 20, 3, 423, 50, 3, 43, 23, 5, 5, 5, 534, 5, 43, 34, 23, 543, 234, 0, 767, 4, -65, -76, 94};\n",
    "\n",
    "print_data(data);\n",
    "\n",
    "for (int i = 1; i < data.size(); i++){\n",
    "    \n",
    "    for (int j = i; j >= 1 && data.at(j-1) > data.at(j); j--){\n",
    "        swap(data.at(j), data.at(j-1)); \n",
    "    }\n",
    "    print_data(data);\n",
    "}\n",
    "\n",
    "print_data(data);\n"
   ]
  },
  {
   "cell_type": "markdown",
   "metadata": {},
   "source": [
    "# Binary search\n",
    "https://en.wikipedia.org/wiki/Binary_search_algorithm.\n",
    "\n",
    "We set left and right to be the most left and right indexes.  \n",
    "We then set the middle index.  \n",
    "If the middle is less than the search, we move the left up to middle and repeat the process. \n",
    "If the middle is more than the search, we move the right down to the middle and repeat the process.  \n",
    "We continue to do this until the data is found or until l and r pass each other.  \n",
    "In the scenario where the search data is exactly in the middle, l and r will meet."
   ]
  },
  {
   "cell_type": "code",
   "execution_count": 14,
   "metadata": {},
   "outputs": [
    {
     "name": "stdout",
     "output_type": "stream",
     "text": [
      "14"
     ]
    }
   ],
   "source": [
    "int bin_search(std::vector<int> data, int search){\n",
    "    int l = 0; \n",
    "    int r = data.size()-1;\n",
    "    while(l <= r){\n",
    "        int m = static_cast<int>((l + r) / 2);\n",
    "            if (data.at(m) < search){\n",
    "                l = m + 1;\n",
    "            } else if (data.at(m) > search){\n",
    "                r = m - 1;\n",
    "            } else {\n",
    "                return m;\n",
    "            }\n",
    "    }\n",
    "    return -1;\n",
    "}\n",
    "std::vector<int> sorted = {-76, -65, 0, 3, 3, 4, 5, 5, 5, 5, 20, 23, 23, 34, 43, 43, 50, 94, 101, 234, 423, 534, 543, 767};\n",
    "\n",
    "std::cout << bin_search(sorted, 43);"
   ]
  },
  {
   "cell_type": "markdown",
   "metadata": {},
   "source": [
    "# Stacks and Queues in C++\n",
    "These describe the way we process data. Because they are not data structures themselves but rather a way of using data structures, they are said to be abstract data types. "
   ]
  },
  {
   "cell_type": "markdown",
   "metadata": {},
   "source": [
    "## Stack"
   ]
  },
  {
   "cell_type": "code",
   "execution_count": 15,
   "metadata": {},
   "outputs": [
    {
     "name": "stdout",
     "output_type": "stream",
     "text": [
      "Caleb Erin Karen Marolyn \n",
      "popped: Marolyn\n",
      "popped: Karen\n",
      "popped: Erin\n",
      "popped: Caleb\n"
     ]
    }
   ],
   "source": [
    "std::vector<std::string> people = {\"Caleb\"};\n",
    "\n",
    "//adding data\n",
    "people.push_back(\"Erin\");\n",
    "people.push_back(\"Karen\");\n",
    "people.push_back(\"Marolyn\");\n",
    "\n",
    "for (auto person : people){\n",
    "    std::cout << person << \" \";\n",
    "}\n",
    "std::cout << std::endl;\n",
    "\n",
    "\n",
    "std::string popped = people.back();\n",
    "people.pop_back();\n",
    "std::cout << \"popped: \" << popped << std::endl;\n",
    "\n",
    "popped = people.back();\n",
    "people.pop_back();\n",
    "std::cout << \"popped: \" << popped << std::endl;\n",
    "\n",
    "popped = people.back();\n",
    "people.pop_back();\n",
    "std::cout << \"popped: \" << popped << std::endl;\n",
    "\n",
    "popped = people.back();\n",
    "people.pop_back();\n",
    "std::cout << \"popped: \" << popped << std::endl;"
   ]
  },
  {
   "cell_type": "code",
   "execution_count": 16,
   "metadata": {},
   "outputs": [
    {
     "name": "stdout",
     "output_type": "stream",
     "text": [
      "Caleb Erin Karen Marolyn \n",
      "popped: Marolyn\n",
      "popped: Karen\n",
      "popped: Erin\n",
      "popped: Caleb\n"
     ]
    }
   ],
   "source": [
    "std::vector<std::string> people = {\"Caleb\"};\n",
    "\n",
    "//adding data\n",
    "///people.insert(people.begin(), \"Erin\");\n",
    "people.push_back(\"Erin\");\n",
    "people.push_back(\"Karen\");\n",
    "people.push_back(\"Marolyn\");\n",
    "\n",
    "for (auto person : people){\n",
    "    std::cout << person << \" \";\n",
    "}\n",
    "std::cout << std::endl;\n",
    "\n",
    "\n",
    "std::string popped = people.back();\n",
    "people.pop_back();\n",
    "std::cout << \"popped: \" << popped << std::endl;\n",
    "\n",
    "popped = people.back();\n",
    "people.pop_back();\n",
    "std::cout << \"popped: \" << popped << std::endl;\n",
    "\n",
    "popped = people.back();\n",
    "people.pop_back();\n",
    "std::cout << \"popped: \" << popped << std::endl;\n",
    "\n",
    "popped = people.back();\n",
    "people.pop_back();\n",
    "std::cout << \"popped: \" << popped << std::endl;\n"
   ]
  },
  {
   "cell_type": "markdown",
   "metadata": {},
   "source": [
    "## Queue \n",
    "This is terrible for performance because each time we add an element the entire array needs shifted up (O(n))"
   ]
  },
  {
   "cell_type": "code",
   "execution_count": 17,
   "metadata": {},
   "outputs": [
    {
     "name": "stdout",
     "output_type": "stream",
     "text": [
      "Marolyn Karen Erin Caleb \n",
      "popped: Caleb\n",
      "popped: Erin\n",
      "popped: Karen\n",
      "popped: Marolyn\n"
     ]
    }
   ],
   "source": [
    "std::vector<std::string> people = {\"Caleb\"};\n",
    "\n",
    "//adding data\n",
    "people.insert(people.begin(), \"Erin\");\n",
    "people.insert(people.begin(), \"Karen\");\n",
    "people.insert(people.begin(), \"Marolyn\");\n",
    "\n",
    "for (auto person : people){\n",
    "    std::cout << person << \" \";\n",
    "}\n",
    "std::cout << std::endl;\n",
    "\n",
    "\n",
    "std::string popped = people.back();\n",
    "people.pop_back();\n",
    "std::cout << \"popped: \" << popped << std::endl;\n",
    "\n",
    "popped = people.back();\n",
    "people.pop_back();\n",
    "std::cout << \"popped: \" << popped << std::endl;\n",
    "\n",
    "popped = people.back();\n",
    "people.pop_back();\n",
    "std::cout << \"popped: \" << popped << std::endl;\n",
    "\n",
    "popped = people.back();\n",
    "people.pop_back();\n",
    "std::cout << \"popped: \" << popped << std::endl;\n"
   ]
  },
  {
   "cell_type": "markdown",
   "metadata": {},
   "source": [
    "# deque (double ended queue)\n",
    "\n",
    "https://stackoverflow.com/questions/6292332/what-really-is-a-deque-in-stl.\n",
    "\n",
    "This is a valid implementation for both stacks and queues. "
   ]
  },
  {
   "cell_type": "code",
   "execution_count": 18,
   "metadata": {},
   "outputs": [
    {
     "name": "stdout",
     "output_type": "stream",
     "text": [
      "Marolyn Karen Erin Caleb \n",
      "popped: Caleb\n",
      "popped: Erin\n",
      "popped: Karen\n",
      "popped: Marolyn\n"
     ]
    }
   ],
   "source": [
    "#include <deque>\n",
    "\n",
    "std::deque<std::string> people = {\"Caleb\"};\n",
    "\n",
    "//adding data\n",
    "people.push_front(\"Erin\");\n",
    "people.push_front(\"Karen\");\n",
    "people.push_front(\"Marolyn\");\n",
    "\n",
    "for (auto person : people){\n",
    "    std::cout << person << \" \";\n",
    "}\n",
    "std::cout << std::endl;\n",
    "\n",
    "\n",
    "std::string popped = people.back();\n",
    "people.pop_back();\n",
    "std::cout << \"popped: \" << popped << std::endl;\n",
    "\n",
    "popped = people.back();\n",
    "people.pop_back();\n",
    "std::cout << \"popped: \" << popped << std::endl;\n",
    "\n",
    "popped = people.back();\n",
    "people.pop_back();\n",
    "std::cout << \"popped: \" << popped << std::endl;\n",
    "\n",
    "popped = people.back();\n",
    "people.pop_back();\n",
    "std::cout << \"popped: \" << popped << std::endl;"
   ]
  }
 ],
 "metadata": {
  "kernelspec": {
   "display_name": "C++17",
   "language": "C++17",
   "name": "xcpp17"
  },
  "language_info": {
   "codemirror_mode": "text/x-c++src",
   "file_extension": ".cpp",
   "mimetype": "text/x-c++src",
   "name": "c++",
   "version": "17"
  }
 },
 "nbformat": 4,
 "nbformat_minor": 4
}
