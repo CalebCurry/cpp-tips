{
 "cells": [
  {
   "cell_type": "markdown",
   "metadata": {},
   "source": [
    "# Basics and data types\n",
    "\n",
    "Here is the basic structure for a C++ application.\n",
    "If you're developing locally, you'll start with just a main function, but this step is unnecesary in a notebook environment."
   ]
  },
  {
   "cell_type": "code",
   "execution_count": 1,
   "metadata": {},
   "outputs": [],
   "source": [
    "#include <iostream>\n",
    "#include <string>\n",
    "\n",
    "int main(){\n",
    "    double x = static_cast<int>(5.5);\n",
    "    std::string y = \"Hello world\";\n",
    "    \n",
    "    std::cout << x << std::endl;\n",
    "    std::cout << y << std::endl;\n",
    "}"
   ]
  },
  {
   "cell_type": "code",
   "execution_count": 2,
   "metadata": {},
   "outputs": [
    {
     "name": "stdout",
     "output_type": "stream",
     "text": [
      "5\n",
      "Hello world\n"
     ]
    }
   ],
   "source": [
    "main();"
   ]
  },
  {
   "cell_type": "markdown",
   "metadata": {},
   "source": [
    "# Here's how to print a variable"
   ]
  },
  {
   "cell_type": "code",
   "execution_count": 3,
   "metadata": {},
   "outputs": [
    {
     "name": "stdout",
     "output_type": "stream",
     "text": [
      "5000\n"
     ]
    }
   ],
   "source": [
    "int v = 5000;\n",
    "std::cout << v << std::endl;"
   ]
  },
  {
   "cell_type": "markdown",
   "metadata": {},
   "source": [
    "You can use variables defined in earlier cells:"
   ]
  },
  {
   "cell_type": "code",
   "execution_count": 4,
   "metadata": {},
   "outputs": [
    {
     "name": "stdout",
     "output_type": "stream",
     "text": [
      "5000\n"
     ]
    }
   ],
   "source": [
    "std::cout << v << std::endl;"
   ]
  },
  {
   "cell_type": "markdown",
   "metadata": {},
   "source": [
    "# Working with strings\n",
    "\n",
    "A summary of this section is basically that C strings succccc. \n",
    "Don't use them unless you need to. \n",
    "A char array cannot be expanded or assigned to from another array. "
   ]
  },
  {
   "cell_type": "markdown",
   "metadata": {},
   "source": [
    "Example of how to use scanf from C programming\n",
    "http://www.cplusplus.com/reference/cstdio/scanf/"
   ]
  },
  {
   "cell_type": "code",
   "execution_count": 5,
   "metadata": {},
   "outputs": [
    {
     "name": "stdout",
     "output_type": "stream",
     "text": [
      "hello "
     ]
    }
   ],
   "source": [
    "//The C way of doing it. Don't quite work in notebook. Thats ok tho.\n",
    "#include <stdio.h>\n",
    "\n",
    "char name[30];\n",
    "scanf(\"%29s\", name);\n",
    "printf(\"hello %s\", name);"
   ]
  },
  {
   "cell_type": "code",
   "execution_count": 6,
   "metadata": {},
   "outputs": [],
   "source": [
    "//C++ \n",
    "\n",
    "std::string name; //Don't worry about the size\n",
    "//std::cin >> name;"
   ]
  },
  {
   "cell_type": "code",
   "execution_count": 7,
   "metadata": {},
   "outputs": [
    {
     "name": "stdout",
     "output_type": "stream",
     "text": [
      "5\n",
      "Caleb Curry\n",
      "Subscriber is 10 characters long.\n",
      "You: Subscriber. copy2: Subscriber\n",
      "0x104ab012e 0x104ab0178\n"
     ]
    }
   ],
   "source": [
    "#include <string>\n",
    "#include <iostream>\n",
    "#include <cstring>\n",
    "\n",
    "std::string name = \"Caleb\";\n",
    "std::cout << name.size() << std::endl;\n",
    "\n",
    "name += \" Curry\";\n",
    "\n",
    "std::cout << name << std::endl;\n",
    "\n",
    "//C String\n",
    "char you[] = \"Subscriber\";\n",
    "std::cout << you << \" is \" << strlen(you) << \" characters long.\" << std::endl;\n",
    "\n",
    "//you += \" forever\"; //NOPE!\n",
    "\n",
    "std::string copy1 = name; //Easy\n",
    "//char copy2[11] = you; //This doesn't work. \n",
    "\n",
    "char copy2[11];\n",
    "strcpy(copy2, you); //Easy to get backwards\n",
    "\n",
    "std::cout << \"You: \" << you << \". copy2: \" << copy2 << std::endl;\n",
    "std::cout << &you << \" \" << &copy2 << std::endl;"
   ]
  },
  {
   "cell_type": "markdown",
   "metadata": {},
   "source": [
    "# Vector\n",
    "C++ dynamic array. The equivalent of an arraylist in c#/Java or a list in Python. Ideal choice for most situations. "
   ]
  },
  {
   "cell_type": "code",
   "execution_count": 8,
   "metadata": {},
   "outputs": [
    {
     "name": "stdout",
     "output_type": "stream",
     "text": [
      "green red blue black \n"
     ]
    }
   ],
   "source": [
    "#include <vector>\n",
    "\n",
    "std::vector<std::string> favorite_colors;\n",
    "favorite_colors.push_back(\"green\");\n",
    "favorite_colors.push_back(\"red\");\n",
    "favorite_colors.push_back(\"blue\");\n",
    "favorite_colors.push_back(\"black\");\n",
    "\n",
    "for (auto color : favorite_colors){\n",
    "    std::cout << color << \" \";\n",
    "}\n",
    "std::cout << std::endl;"
   ]
  },
  {
   "cell_type": "markdown",
   "metadata": {},
   "source": [
    "# You can also use an initializer with hardcoded values. C++ 11\n",
    "if using g++.  \n",
    "g++ --std=c++11 filename.cpp\n",
    "with compiling.    \n",
    "I think.  "
   ]
  },
  {
   "cell_type": "code",
   "execution_count": 9,
   "metadata": {},
   "outputs": [
    {
     "name": "stdout",
     "output_type": "stream",
     "text": [
      "green red blue black "
     ]
    }
   ],
   "source": [
    "std::vector<std::string> favorite_colors = {\"green\", \"red\", \"blue\", \"black\"};\n",
    "\n",
    "for (auto color : favorite_colors){\n",
    "    std::cout << color << \" \";\n",
    "}"
   ]
  },
  {
   "cell_type": "markdown",
   "metadata": {},
   "source": [
    "# How to sort an array / vector (work in progress)\n",
    "\n",
    "We'll be using a vector because it's simpler and what I am most comfortable working with, but I'm sure you could adapt this example to an array fairly easily. "
   ]
  },
  {
   "cell_type": "code",
   "execution_count": 10,
   "metadata": {},
   "outputs": [
    {
     "name": "stdout",
     "output_type": "stream",
     "text": [
      "1 20 3 423 50 3 43 23 534 5 43 34 23 543 234 0 767 4 -65 -76 94 \n"
     ]
    }
   ],
   "source": [
    "std::vector<int> data = {1, 20, 3, 423, 50, 3, 43, 23, 534, 5, 43, 34, 23, 543, 234, 0, 767, 4, -65, -76, 94};\n",
    "\n",
    "for (int d : data){\n",
    "    std::cout << d << \" \";\n",
    "}\n",
    "std::cout << std::endl;"
   ]
  }
 ],
 "metadata": {
  "kernelspec": {
   "display_name": "C++17",
   "language": "C++17",
   "name": "xcpp17"
  },
  "language_info": {
   "codemirror_mode": "text/x-c++src",
   "file_extension": ".cpp",
   "mimetype": "text/x-c++src",
   "name": "c++",
   "version": "17"
  }
 },
 "nbformat": 4,
 "nbformat_minor": 4
}
